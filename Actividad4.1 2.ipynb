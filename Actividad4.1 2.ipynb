{
 "cells": [
  {
   "cell_type": "code",
   "execution_count": 1,
   "metadata": {},
   "outputs": [],
   "source": [
    "import numpy as np\n",
    "import pandas as pd\n",
    "import matplotlib.pyplot as plt\n",
    "import scipy.special as special\n",
    "from scipy.optimize import curve_fit\n",
    "import seaborn as sns\n",
    "from sklearn.metrics import r2_score\n",
    "from sklearn.model_selection import train_test_split\n",
    "from sklearn.preprocessing import StandardScaler"
   ]
  },
  {
   "cell_type": "code",
   "execution_count": 2,
   "metadata": {},
   "outputs": [],
   "source": [
    "# Carga de datos\n",
    "df = pd.read_csv(\"Sicily.csv\")"
   ]
  },
  {
   "cell_type": "code",
   "execution_count": 3,
   "metadata": {},
   "outputs": [
    {
     "name": "stderr",
     "output_type": "stream",
     "text": [
      "<>:4: SyntaxWarning: invalid escape sequence '\\$'\n",
      "<>:4: SyntaxWarning: invalid escape sequence '\\$'\n",
      "/var/folders/lk/1s80q3g16rl6xn6yqybdsx3m0000gn/T/ipykernel_60138/3035734538.py:4: SyntaxWarning: invalid escape sequence '\\$'\n",
      "  df['price'] = df['price'].replace('[\\$,]', '', regex=True).astype(float)\n"
     ]
    }
   ],
   "source": [
    "# Limpieza de datos (quitar símbolos y convertir a numérico)\n",
    "df['host_response_rate'] = df['host_response_rate'].str.rstrip('%').astype(float)\n",
    "df['host_acceptance_rate'] = df['host_acceptance_rate'].str.rstrip('%').astype(float)\n",
    "df['price'] = df['price'].replace('[\\$,]', '', regex=True).astype(float)"
   ]
  }
 ],
 "metadata": {
  "kernelspec": {
   "display_name": "Python 3",
   "language": "python",
   "name": "python3"
  },
  "language_info": {
   "codemirror_mode": {
    "name": "ipython",
    "version": 3
   },
   "file_extension": ".py",
   "mimetype": "text/x-python",
   "name": "python",
   "nbconvert_exporter": "python",
   "pygments_lexer": "ipython3",
   "version": "3.13.2"
  }
 },
 "nbformat": 4,
 "nbformat_minor": 2
}
